{
 "cells": [
  {
   "cell_type": "code",
   "execution_count": 2,
   "id": "19f0c7b8-08a2-40b7-bd03-7cefe8365498",
   "metadata": {},
   "outputs": [
    {
     "name": "stdout",
     "output_type": "stream",
     "text": [
      "total 237300\n",
      "-rw-r--r-- 1 gavin gavin 184720344 Jan 19  2022 cifar10_data.mat\n",
      "-rw-r--r-- 1 gavin gavin      7024 Jan 18  2022 featurize.py\n",
      "drwxr-xr-x 2 gavin gavin    233472 Jan 16  2021 ham\n",
      "-rw-r--r-- 1 gavin gavin  54940344 Jan 19  2022 mnist_data.mat\n",
      "drwxr-xr-x 2 gavin gavin     81920 Jan 16  2021 spam\n",
      "-rw-r--r-- 1 gavin gavin   2865144 Jan 19  2022 spam_data.mat\n",
      "drwxr-xr-x 2 gavin gavin    139264 Jan 19  2022 test\n"
     ]
    }
   ],
   "source": [
    "!ls -l ./data"
   ]
  },
  {
   "cell_type": "code",
   "execution_count": 3,
   "id": "9f85e3a9-cda2-462f-9504-812751817535",
   "metadata": {},
   "outputs": [],
   "source": [
    "from scipy import io\n",
    "import numpy as np"
   ]
  },
  {
   "cell_type": "code",
   "execution_count": 21,
   "id": "66286d5b-212f-4004-8d82-be282890f7f5",
   "metadata": {},
   "outputs": [
    {
     "data": {
      "text/plain": [
       "dict_keys(['__header__', '__version__', '__globals__', 'training_data', 'training_labels', 'test_data'])"
      ]
     },
     "execution_count": 21,
     "metadata": {},
     "output_type": "execute_result"
    }
   ],
   "source": [
    "mnist_data = io.loadmat('./data/mnist_data.mat')\n",
    "mnist_data.keys()"
   ]
  },
  {
   "cell_type": "code",
   "execution_count": 22,
   "id": "e3b6b13d-f88e-4788-902b-dd0d850c516c",
   "metadata": {},
   "outputs": [],
   "source": [
    "train_X = mnist_data['training_data']\n",
    "train_y = mnist_data['training_labels']\n",
    "test_X = mnist_data['test_data']"
   ]
  },
  {
   "cell_type": "code",
   "execution_count": 23,
   "id": "11e40d7c-ac75-4dd4-912e-450afd25da60",
   "metadata": {},
   "outputs": [],
   "source": [
    "from sklearn.model_selection import train_test_split"
   ]
  },
  {
   "cell_type": "code",
   "execution_count": 24,
   "id": "9bad57e5-7ea6-43de-b076-fa36bfc940a4",
   "metadata": {},
   "outputs": [],
   "source": [
    "train_X, val_X, train_y, val_y = train_test_split(train_X, train_y, shuffle=True, test_size=1/6)"
   ]
  },
  {
   "cell_type": "code",
   "execution_count": 25,
   "id": "dc665886-0233-4043-bb3c-006796be2856",
   "metadata": {},
   "outputs": [
    {
     "name": "stdout",
     "output_type": "stream",
     "text": [
      "Training dataset  : (50000, 784), (50000, 1)\n",
      "Validation dataset: (10000, 784), (10000, 1)\n",
      "Testing dataset   : (10000, 784)\n"
     ]
    }
   ],
   "source": [
    "print(f'Training dataset  : {train_X.shape}, {train_y.shape}')\n",
    "print(f'Validation dataset: {val_X.shape}, {val_y.shape}')\n",
    "print(f'Testing dataset   : {test_X.shape}')"
   ]
  },
  {
   "cell_type": "code",
   "execution_count": 26,
   "id": "af42a3d7-fe86-42dc-8dd9-e6fb92fe39b2",
   "metadata": {},
   "outputs": [],
   "source": [
    "from sklearn import svm\n",
    "from sklearn import metrics"
   ]
  },
  {
   "cell_type": "code",
   "execution_count": 27,
   "id": "b45a0383-4cd5-400d-9062-9b6d341b3553",
   "metadata": {},
   "outputs": [],
   "source": [
    "svm = svm.SVC(kernel='linear', C=1)"
   ]
  },
  {
   "cell_type": "code",
   "execution_count": 35,
   "id": "9446391b-1247-4d97-ab09-ab33eb5680a0",
   "metadata": {},
   "outputs": [
    {
     "name": "stdout",
     "output_type": "stream",
     "text": [
      "Training on #100 of data samples\n",
      "Training on #200 of data samples\n",
      "Training on #500 of data samples\n",
      "Training on #1000 of data samples\n",
      "Training on #2000 of data samples\n",
      "Training on #5000 of data samples\n",
      "Training on #10000 of data samples\n"
     ]
    }
   ],
   "source": [
    "training_examples = [100, 200, 500, 1_000, 2_000, 5_000, 10_000]\n",
    "train_accuracy = []\n",
    "val_accuracy  = []\n",
    "\n",
    "for num in training_examples:\n",
    "    # training and validating\n",
    "    svm.fit(train_X[:num], np.squeeze(train_y[:num]))\n",
    "    train_y_prd = svm.predict(train_X)\n",
    "    val_y_prd = svm.predict(val_X)\n",
    "    \n",
    "    # calculate accuracy\n",
    "    train_acc = metrics.accuracy_score(y_true=np.squeeze(train_y), train_y_prd, normalize=True)\n",
    "    val_acc = metrics.accuracy_score(y_true=np.squeeze(val_y), val_y_prd, normalize=True)\n",
    "    train_accuracy.append(train_acc)\n",
    "    val_accuracy.append(val_acc)\n",
    "    print(f'Trained on #{num} of data samples, \\ \n",
    "          acheving {train_acc*100:.2f}% training accuracy and {val_acc*100:.2f}% testing accuracy.')\n"
   ]
  },
  {
   "cell_type": "code",
   "execution_count": null,
   "id": "7aba42ee-68fa-48e0-990a-8e96d2be8645",
   "metadata": {},
   "outputs": [],
   "source": []
  }
 ],
 "metadata": {
  "kernelspec": {
   "display_name": "Python 3 (ipykernel)",
   "language": "python",
   "name": "python3"
  },
  "language_info": {
   "codemirror_mode": {
    "name": "ipython",
    "version": 3
   },
   "file_extension": ".py",
   "mimetype": "text/x-python",
   "name": "python",
   "nbconvert_exporter": "python",
   "pygments_lexer": "ipython3",
   "version": "3.7.13"
  }
 },
 "nbformat": 4,
 "nbformat_minor": 5
}
